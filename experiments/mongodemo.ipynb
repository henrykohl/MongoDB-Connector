{
 "cells": [
  {
   "cell_type": "code",
   "execution_count": null,
   "id": "71b7061d",
   "metadata": {},
   "outputs": [],
   "source": [
    "!pip list # 測試用，可以看到 databaseautomation 並不存在"
   ]
  },
  {
   "cell_type": "code",
   "execution_count": null,
   "id": "20339d4f",
   "metadata": {},
   "outputs": [],
   "source": [
    "!pip install databaseautomation==0.0.4 --quiet"
   ]
  },
  {
   "cell_type": "code",
   "execution_count": null,
   "id": "cd71687f",
   "metadata": {},
   "outputs": [],
   "source": [
    "!pip list # 測試用，可以看到顯示 databaseautomation "
   ]
  },
  {
   "cell_type": "code",
   "execution_count": null,
   "id": "60d9f327",
   "metadata": {},
   "outputs": [],
   "source": [
    "!pip install pymongo --quiet "
   ]
  },
  {
   "cell_type": "markdown",
   "id": "fb723b99",
   "metadata": {},
   "source": [
    "* 注意在原 Lecture 中 v0.0.4版本的 [setup.py](https://github.com/sunnysavita10/MongoDB-Connector/blob/main/setup.py)，沒有執行 \n",
    "```python\n",
    "install_requires=get_equirement(\"./requirements_dev.txt\"),\n",
    "```\n",
    "如此會造成執行下行代碼時，會出現找不到 pymongo，因此在此需要安裝\n",
    " "
   ]
  },
  {
   "cell_type": "code",
   "execution_count": null,
   "id": "9d730e4f",
   "metadata": {},
   "outputs": [],
   "source": [
    "from database_automation import mongo_crud"
   ]
  },
  {
   "cell_type": "code",
   "execution_count": null,
   "id": "e52ef4c3",
   "metadata": {},
   "outputs": [],
   "source": [
    "#call the mongodb connection\n",
    "client_url = \"mongodb+srv://<使用者名稱>:<使用者密碼>@cluster0.3xxs9qr.mongodb.net/?retryWrites=true&w=majority&appName=Cluster0\"\n",
    "database = \"testingpackage\"\n",
    "collection_name = \"testing package collection\""
   ]
  },
  {
   "cell_type": "markdown",
   "id": "9b710d46",
   "metadata": {},
   "source": [
    "* <使用者名稱>與<使用者密碼>是MongoDB中所設定能夠存取 collection 所建立的 username 與 password，並非登入 MongoDB 的 使用者名稱 與 使用者密碼。"
   ]
  },
  {
   "cell_type": "code",
   "execution_count": null,
   "id": "254fdd12",
   "metadata": {},
   "outputs": [],
   "source": [
    "mongo=mongo_crud.mongo_operation(client_url, database, collection_name)"
   ]
  },
  {
   "cell_type": "code",
   "execution_count": null,
   "id": "6d43a118",
   "metadata": {},
   "outputs": [],
   "source": [
    "mongo.insert_record({\"name\":\"sunny savita\",\"designation\":\"data scientist\",\"salary\":\"10k\"},collection_name)"
   ]
  }
 ],
 "metadata": {
  "language_info": {
   "name": "python"
  }
 },
 "nbformat": 4,
 "nbformat_minor": 5
}
